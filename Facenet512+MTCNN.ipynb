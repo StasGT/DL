{
  "cells": [
    {
      "cell_type": "markdown",
      "metadata": {
        "id": "view-in-github",
        "colab_type": "text"
      },
      "source": [
        "<a href=\"https://colab.research.google.com/github/StasGT/DL/blob/main/Facenet512%2BMTCNN.ipynb\" target=\"_parent\"><img src=\"https://colab.research.google.com/assets/colab-badge.svg\" alt=\"Open In Colab\"/></a>"
      ]
    },
    {
      "cell_type": "markdown",
      "source": [
        "### facenet-pytorch LFW evaluation"
      ],
      "metadata": {
        "collapsed": false,
        "id": "Y0USrg8WC1F2"
      }
    },
    {
      "cell_type": "code",
      "source": [
        "# Facenet512 Installation\n",
        "!pip install facenet_pytorch"
      ],
      "metadata": {
        "colab": {
          "base_uri": "https://localhost:8080/"
        },
        "id": "Ilabw9bVKB08",
        "outputId": "7405861d-4c0d-42e7-d0ae-c349e8d0fd44"
      },
      "execution_count": null,
      "outputs": [
        {
          "output_type": "stream",
          "name": "stdout",
          "text": [
            "Collecting facenet_pytorch\n",
            "  Downloading facenet_pytorch-2.6.0-py3-none-any.whl.metadata (12 kB)\n",
            "Collecting numpy<2.0.0,>=1.24.0 (from facenet_pytorch)\n",
            "  Downloading numpy-1.26.4-cp311-cp311-manylinux_2_17_x86_64.manylinux2014_x86_64.whl.metadata (61 kB)\n",
            "\u001b[2K     \u001b[90m━━━━━━━━━━━━━━━━━━━━━━━━━━━━━━━━━━━━━━━━\u001b[0m \u001b[32m61.0/61.0 kB\u001b[0m \u001b[31m1.1 MB/s\u001b[0m eta \u001b[36m0:00:00\u001b[0m\n",
            "\u001b[?25hCollecting Pillow<10.3.0,>=10.2.0 (from facenet_pytorch)\n",
            "  Downloading pillow-10.2.0-cp311-cp311-manylinux_2_28_x86_64.whl.metadata (9.7 kB)\n",
            "Requirement already satisfied: requests<3.0.0,>=2.0.0 in /usr/local/lib/python3.11/dist-packages (from facenet_pytorch) (2.32.3)\n",
            "Collecting torch<2.3.0,>=2.2.0 (from facenet_pytorch)\n",
            "  Downloading torch-2.2.2-cp311-cp311-manylinux1_x86_64.whl.metadata (25 kB)\n",
            "Collecting torchvision<0.18.0,>=0.17.0 (from facenet_pytorch)\n",
            "  Downloading torchvision-0.17.2-cp311-cp311-manylinux1_x86_64.whl.metadata (6.6 kB)\n",
            "Requirement already satisfied: tqdm<5.0.0,>=4.0.0 in /usr/local/lib/python3.11/dist-packages (from facenet_pytorch) (4.67.1)\n",
            "Requirement already satisfied: charset-normalizer<4,>=2 in /usr/local/lib/python3.11/dist-packages (from requests<3.0.0,>=2.0.0->facenet_pytorch) (3.4.2)\n",
            "Requirement already satisfied: idna<4,>=2.5 in /usr/local/lib/python3.11/dist-packages (from requests<3.0.0,>=2.0.0->facenet_pytorch) (3.10)\n",
            "Requirement already satisfied: urllib3<3,>=1.21.1 in /usr/local/lib/python3.11/dist-packages (from requests<3.0.0,>=2.0.0->facenet_pytorch) (2.4.0)\n",
            "Requirement already satisfied: certifi>=2017.4.17 in /usr/local/lib/python3.11/dist-packages (from requests<3.0.0,>=2.0.0->facenet_pytorch) (2025.4.26)\n",
            "Requirement already satisfied: filelock in /usr/local/lib/python3.11/dist-packages (from torch<2.3.0,>=2.2.0->facenet_pytorch) (3.18.0)\n",
            "Requirement already satisfied: typing-extensions>=4.8.0 in /usr/local/lib/python3.11/dist-packages (from torch<2.3.0,>=2.2.0->facenet_pytorch) (4.13.2)\n",
            "Requirement already satisfied: sympy in /usr/local/lib/python3.11/dist-packages (from torch<2.3.0,>=2.2.0->facenet_pytorch) (1.13.1)\n",
            "Requirement already satisfied: networkx in /usr/local/lib/python3.11/dist-packages (from torch<2.3.0,>=2.2.0->facenet_pytorch) (3.4.2)\n",
            "Requirement already satisfied: jinja2 in /usr/local/lib/python3.11/dist-packages (from torch<2.3.0,>=2.2.0->facenet_pytorch) (3.1.6)\n",
            "Requirement already satisfied: fsspec in /usr/local/lib/python3.11/dist-packages (from torch<2.3.0,>=2.2.0->facenet_pytorch) (2025.3.2)\n",
            "Collecting nvidia-cuda-nvrtc-cu12==12.1.105 (from torch<2.3.0,>=2.2.0->facenet_pytorch)\n",
            "  Downloading nvidia_cuda_nvrtc_cu12-12.1.105-py3-none-manylinux1_x86_64.whl.metadata (1.5 kB)\n",
            "Collecting nvidia-cuda-runtime-cu12==12.1.105 (from torch<2.3.0,>=2.2.0->facenet_pytorch)\n",
            "  Downloading nvidia_cuda_runtime_cu12-12.1.105-py3-none-manylinux1_x86_64.whl.metadata (1.5 kB)\n",
            "Collecting nvidia-cuda-cupti-cu12==12.1.105 (from torch<2.3.0,>=2.2.0->facenet_pytorch)\n",
            "  Downloading nvidia_cuda_cupti_cu12-12.1.105-py3-none-manylinux1_x86_64.whl.metadata (1.6 kB)\n",
            "Collecting nvidia-cudnn-cu12==8.9.2.26 (from torch<2.3.0,>=2.2.0->facenet_pytorch)\n",
            "  Downloading nvidia_cudnn_cu12-8.9.2.26-py3-none-manylinux1_x86_64.whl.metadata (1.6 kB)\n",
            "Collecting nvidia-cublas-cu12==12.1.3.1 (from torch<2.3.0,>=2.2.0->facenet_pytorch)\n",
            "  Downloading nvidia_cublas_cu12-12.1.3.1-py3-none-manylinux1_x86_64.whl.metadata (1.5 kB)\n",
            "Collecting nvidia-cufft-cu12==11.0.2.54 (from torch<2.3.0,>=2.2.0->facenet_pytorch)\n",
            "  Downloading nvidia_cufft_cu12-11.0.2.54-py3-none-manylinux1_x86_64.whl.metadata (1.5 kB)\n",
            "Collecting nvidia-curand-cu12==10.3.2.106 (from torch<2.3.0,>=2.2.0->facenet_pytorch)\n",
            "  Downloading nvidia_curand_cu12-10.3.2.106-py3-none-manylinux1_x86_64.whl.metadata (1.5 kB)\n",
            "Collecting nvidia-cusolver-cu12==11.4.5.107 (from torch<2.3.0,>=2.2.0->facenet_pytorch)\n",
            "  Downloading nvidia_cusolver_cu12-11.4.5.107-py3-none-manylinux1_x86_64.whl.metadata (1.6 kB)\n",
            "Collecting nvidia-cusparse-cu12==12.1.0.106 (from torch<2.3.0,>=2.2.0->facenet_pytorch)\n",
            "  Downloading nvidia_cusparse_cu12-12.1.0.106-py3-none-manylinux1_x86_64.whl.metadata (1.6 kB)\n",
            "Collecting nvidia-nccl-cu12==2.19.3 (from torch<2.3.0,>=2.2.0->facenet_pytorch)\n",
            "  Downloading nvidia_nccl_cu12-2.19.3-py3-none-manylinux1_x86_64.whl.metadata (1.8 kB)\n",
            "Collecting nvidia-nvtx-cu12==12.1.105 (from torch<2.3.0,>=2.2.0->facenet_pytorch)\n",
            "  Downloading nvidia_nvtx_cu12-12.1.105-py3-none-manylinux1_x86_64.whl.metadata (1.7 kB)\n",
            "Collecting triton==2.2.0 (from torch<2.3.0,>=2.2.0->facenet_pytorch)\n",
            "  Downloading triton-2.2.0-cp311-cp311-manylinux_2_17_x86_64.manylinux2014_x86_64.whl.metadata (1.4 kB)\n",
            "Requirement already satisfied: nvidia-nvjitlink-cu12 in /usr/local/lib/python3.11/dist-packages (from nvidia-cusolver-cu12==11.4.5.107->torch<2.3.0,>=2.2.0->facenet_pytorch) (12.5.82)\n",
            "Requirement already satisfied: MarkupSafe>=2.0 in /usr/local/lib/python3.11/dist-packages (from jinja2->torch<2.3.0,>=2.2.0->facenet_pytorch) (3.0.2)\n",
            "Requirement already satisfied: mpmath<1.4,>=1.1.0 in /usr/local/lib/python3.11/dist-packages (from sympy->torch<2.3.0,>=2.2.0->facenet_pytorch) (1.3.0)\n",
            "Downloading facenet_pytorch-2.6.0-py3-none-any.whl (1.9 MB)\n",
            "\u001b[2K   \u001b[90m━━━━━━━━━━━━━━━━━━━━━━━━━━━━━━━━━━━━━━━━\u001b[0m \u001b[32m1.9/1.9 MB\u001b[0m \u001b[31m14.2 MB/s\u001b[0m eta \u001b[36m0:00:00\u001b[0m\n",
            "\u001b[?25hDownloading numpy-1.26.4-cp311-cp311-manylinux_2_17_x86_64.manylinux2014_x86_64.whl (18.3 MB)\n",
            "\u001b[2K   \u001b[90m━━━━━━━━━━━━━━━━━━━━━━━━━━━━━━━━━━━━━━━━\u001b[0m \u001b[32m18.3/18.3 MB\u001b[0m \u001b[31m23.8 MB/s\u001b[0m eta \u001b[36m0:00:00\u001b[0m\n",
            "\u001b[?25hDownloading pillow-10.2.0-cp311-cp311-manylinux_2_28_x86_64.whl (4.5 MB)\n",
            "\u001b[2K   \u001b[90m━━━━━━━━━━━━━━━━━━━━━━━━━━━━━━━━━━━━━━━━\u001b[0m \u001b[32m4.5/4.5 MB\u001b[0m \u001b[31m26.9 MB/s\u001b[0m eta \u001b[36m0:00:00\u001b[0m\n",
            "\u001b[?25hDownloading torch-2.2.2-cp311-cp311-manylinux1_x86_64.whl (755.6 MB)\n",
            "\u001b[2K   \u001b[90m━━━━━━━━━━━━━━━━━━━━━━━━━━━━━━━━━━━━━━━━\u001b[0m \u001b[32m755.6/755.6 MB\u001b[0m \u001b[31m1.2 MB/s\u001b[0m eta \u001b[36m0:00:00\u001b[0m\n",
            "\u001b[?25hDownloading nvidia_cublas_cu12-12.1.3.1-py3-none-manylinux1_x86_64.whl (410.6 MB)\n",
            "\u001b[2K   \u001b[90m━━━━━━━━━━━━━━━━━━━━━━━━━━━━━━━━━━━━━━━━\u001b[0m \u001b[32m410.6/410.6 MB\u001b[0m \u001b[31m1.3 MB/s\u001b[0m eta \u001b[36m0:00:00\u001b[0m\n",
            "\u001b[?25hDownloading nvidia_cuda_cupti_cu12-12.1.105-py3-none-manylinux1_x86_64.whl (14.1 MB)\n",
            "\u001b[2K   \u001b[90m━━━━━━━━━━━━━━━━━━━━━━━━━━━━━━━━━━━━━━━━\u001b[0m \u001b[32m14.1/14.1 MB\u001b[0m \u001b[31m75.2 MB/s\u001b[0m eta \u001b[36m0:00:00\u001b[0m\n",
            "\u001b[?25hDownloading nvidia_cuda_nvrtc_cu12-12.1.105-py3-none-manylinux1_x86_64.whl (23.7 MB)\n",
            "\u001b[2K   \u001b[90m━━━━━━━━━━━━━━━━━━━━━━━━━━━━━━━━━━━━━━━━\u001b[0m \u001b[32m23.7/23.7 MB\u001b[0m \u001b[31m80.0 MB/s\u001b[0m eta \u001b[36m0:00:00\u001b[0m\n",
            "\u001b[?25hDownloading nvidia_cuda_runtime_cu12-12.1.105-py3-none-manylinux1_x86_64.whl (823 kB)\n",
            "\u001b[2K   \u001b[90m━━━━━━━━━━━━━━━━━━━━━━━━━━━━━━━━━━━━━━━━\u001b[0m \u001b[32m823.6/823.6 kB\u001b[0m \u001b[31m43.8 MB/s\u001b[0m eta \u001b[36m0:00:00\u001b[0m\n",
            "\u001b[?25hDownloading nvidia_cudnn_cu12-8.9.2.26-py3-none-manylinux1_x86_64.whl (731.7 MB)\n",
            "\u001b[2K   \u001b[90m━━━━━━━━━━━━━━━━━━━━━━━━━━━━━━━━━━━━━━━━\u001b[0m \u001b[32m731.7/731.7 MB\u001b[0m \u001b[31m1.1 MB/s\u001b[0m eta \u001b[36m0:00:00\u001b[0m\n",
            "\u001b[?25hDownloading nvidia_cufft_cu12-11.0.2.54-py3-none-manylinux1_x86_64.whl (121.6 MB)\n",
            "\u001b[2K   \u001b[90m━━━━━━━━━━━━━━━━━━━━━━━━━━━━━━━━━━━━━━━━\u001b[0m \u001b[32m121.6/121.6 MB\u001b[0m \u001b[31m7.6 MB/s\u001b[0m eta \u001b[36m0:00:00\u001b[0m\n",
            "\u001b[?25hDownloading nvidia_curand_cu12-10.3.2.106-py3-none-manylinux1_x86_64.whl (56.5 MB)\n",
            "\u001b[2K   \u001b[90m━━━━━━━━━━━━━━━━━━━━━━━━━━━━━━━━━━━━━━━━\u001b[0m \u001b[32m56.5/56.5 MB\u001b[0m \u001b[31m12.6 MB/s\u001b[0m eta \u001b[36m0:00:00\u001b[0m\n",
            "\u001b[?25hDownloading nvidia_cusolver_cu12-11.4.5.107-py3-none-manylinux1_x86_64.whl (124.2 MB)\n",
            "\u001b[2K   \u001b[90m━━━━━━━━━━━━━━━━━━━━━━━━━━━━━━━━━━━━━━━━\u001b[0m \u001b[32m124.2/124.2 MB\u001b[0m \u001b[31m7.4 MB/s\u001b[0m eta \u001b[36m0:00:00\u001b[0m\n",
            "\u001b[?25hDownloading nvidia_cusparse_cu12-12.1.0.106-py3-none-manylinux1_x86_64.whl (196.0 MB)\n",
            "\u001b[2K   \u001b[90m━━━━━━━━━━━━━━━━━━━━━━━━━━━━━━━━━━━━━━━━\u001b[0m \u001b[32m196.0/196.0 MB\u001b[0m \u001b[31m6.2 MB/s\u001b[0m eta \u001b[36m0:00:00\u001b[0m\n",
            "\u001b[?25hDownloading nvidia_nccl_cu12-2.19.3-py3-none-manylinux1_x86_64.whl (166.0 MB)\n",
            "\u001b[2K   \u001b[90m━━━━━━━━━━━━━━━━━━━━━━━━━━━━━━━━━━━━━━━━\u001b[0m \u001b[32m166.0/166.0 MB\u001b[0m \u001b[31m6.8 MB/s\u001b[0m eta \u001b[36m0:00:00\u001b[0m\n",
            "\u001b[?25hDownloading nvidia_nvtx_cu12-12.1.105-py3-none-manylinux1_x86_64.whl (99 kB)\n",
            "\u001b[2K   \u001b[90m━━━━━━━━━━━━━━━━━━━━━━━━━━━━━━━━━━━━━━━━\u001b[0m \u001b[32m99.1/99.1 kB\u001b[0m \u001b[31m6.4 MB/s\u001b[0m eta \u001b[36m0:00:00\u001b[0m\n",
            "\u001b[?25hDownloading triton-2.2.0-cp311-cp311-manylinux_2_17_x86_64.manylinux2014_x86_64.whl (167.9 MB)\n",
            "\u001b[2K   \u001b[91m━━━━━━━━━━━━━━━━━━━━━━━━━━━━━━━━━━━━━━\u001b[0m\u001b[91m╸\u001b[0m \u001b[32m167.9/167.9 MB\u001b[0m \u001b[31m139.6 MB/s\u001b[0m eta \u001b[36m0:00:01\u001b[0m"
          ]
        }
      ]
    },
    {
      "cell_type": "code",
      "execution_count": null,
      "outputs": [],
      "source": [
        "from facenet_pytorch import MTCNN, InceptionResnetV1, fixed_image_standardization, training, extract_face\n",
        "import torch\n",
        "from torch.utils.data import DataLoader, SubsetRandomSampler, SequentialSampler\n",
        "from torchvision import datasets, transforms\n",
        "import numpy as np\n",
        "import os"
      ],
      "metadata": {
        "pycharm": {
          "name": "#%%\n"
        },
        "id": "M-e51xL0C1F3"
      }
    },
    {
      "cell_type": "code",
      "source": [
        "# Connection to the Google Drive\n",
        "from google.colab import drive\n",
        "drive.mount('/content/drive')"
      ],
      "metadata": {
        "colab": {
          "base_uri": "https://localhost:8080/"
        },
        "id": "0nEdo-e8J_QS",
        "outputId": "464da73c-fab1-49b4-d0b2-9fca26af894c"
      },
      "execution_count": null,
      "outputs": [
        {
          "output_type": "stream",
          "name": "stdout",
          "text": [
            "Mounted at /content/drive\n"
          ]
        }
      ]
    },
    {
      "cell_type": "code",
      "source": [
        "# Make folders, downloading the LFW dataset, unzip it & folders definition\n",
        "%cd '/content/drive/MyDrive/'\n",
        "%mkdir -p '/dl_for_cv/data/'\n",
        "%cd '/content/drive/MyDrive/dl_for_cv/data/'\n",
        "\n",
        "!wget http://100byte.ru/python/data/lfw_deepfunneled.tgz\n",
        "!tar -xzf lfw_deepfunneled.tgz\n",
        "\n",
        "data_dir = '/content/drive/MyDrive/dl_for_cv/data/lfw-deepfunneled/'\n",
        "%cd '/content/drive/MyDrive/dl_for_cv/data/lfw-deepfunneled/'"
      ],
      "metadata": {
        "colab": {
          "base_uri": "https://localhost:8080/"
        },
        "id": "59QV1dKnd7OH",
        "outputId": "23f66988-5c6e-4be9-98c3-da66fb11b3b5"
      },
      "execution_count": null,
      "outputs": [
        {
          "output_type": "stream",
          "name": "stdout",
          "text": [
            "/content/drive/MyDrive\n",
            "/content/drive/MyDrive/dl_for_cv/data\n",
            "--2025-05-13 19:09:31--  http://100byte.ru/python/data/lfw_deepfunneled.tgz\n",
            "Resolving 100byte.ru (100byte.ru)... 91.189.114.23\n",
            "Connecting to 100byte.ru (100byte.ru)|91.189.114.23|:80... connected.\n",
            "HTTP request sent, awaiting response... 200 OK\n",
            "Length: 108761145 (104M) [application/octet-stream]\n",
            "Saving to: ‘lfw_deepfunneled.tgz.1’\n",
            "\n",
            "lfw_deepfunneled.tg 100%[===================>] 103.72M  25.2MB/s    in 6.9s    \n",
            "\n",
            "2025-05-13 19:09:39 (15.0 MB/s) - ‘lfw_deepfunneled.tgz.1’ saved [108761145/108761145]\n",
            "\n",
            "/content/drive/MyDrive/dl_for_cv/data/lfw-deepfunneled\n"
          ]
        }
      ]
    },
    {
      "cell_type": "code",
      "execution_count": null,
      "outputs": [
        {
          "output_type": "stream",
          "name": "stdout",
          "text": [
            "Running on device: cpu\n"
          ]
        }
      ],
      "source": [
        "# Define batch size, number of workers & computation device\n",
        "batch_size = 1\n",
        "workers = 1\n",
        "device = torch.device('cuda:0' if torch.cuda.is_available() else 'cpu')\n",
        "print('Running on device: {}'.format(device))"
      ],
      "metadata": {
        "pycharm": {
          "name": "#%%\n"
        },
        "id": "-rKUcoVWC1F4",
        "outputId": "c462e02d-e60e-47be-d619-dff7c604f308",
        "colab": {
          "base_uri": "https://localhost:8080/"
        }
      }
    },
    {
      "cell_type": "code",
      "execution_count": null,
      "outputs": [],
      "source": [
        "# Attributes definition of the MTCNN (Multi-task Cascaded Convolutional Network)\n",
        "mtcnn = MTCNN(\n",
        "    image_size=160,\n",
        "    margin=14,\n",
        "    device=device,\n",
        "    selection_method='center_weighted_size'\n",
        ")"
      ],
      "metadata": {
        "pycharm": {
          "name": "#%%\n"
        },
        "id": "5UmWvOtRC1F5"
      }
    },
    {
      "cell_type": "code",
      "execution_count": null,
      "outputs": [],
      "source": [
        "# Define the data loader for the input set of images\n",
        "data_dir = '/content/drive/MyDrive/dl_for_cv/data/lfw-deepfunneled/'\n",
        "orig_img_ds = datasets.ImageFolder(data_dir, transform=None)"
      ],
      "metadata": {
        "pycharm": {
          "name": "#%%\n"
        },
        "id": "b0lS_FZ3C1F5"
      }
    },
    {
      "cell_type": "code",
      "execution_count": null,
      "outputs": [],
      "source": [
        "# Overwrites class labels in dataset with path so path can be used for saving output in mtcnn batches\n",
        "orig_img_ds.samples = [\n",
        "    (p, p)\n",
        "    for p, _ in orig_img_ds.samples\n",
        "]\n",
        "\n",
        "loader = DataLoader(\n",
        "    orig_img_ds,\n",
        "    num_workers=workers,\n",
        "    batch_size=batch_size,\n",
        "    collate_fn=training.collate_pil\n",
        ")\n"
      ],
      "metadata": {
        "pycharm": {
          "name": "#%%\n"
        },
        "id": "Fiz3pyj3C1F5"
      }
    },
    {
      "cell_type": "code",
      "execution_count": null,
      "metadata": {
        "id": "VoFc2p5WC1F5",
        "colab": {
          "base_uri": "https://localhost:8080/"
        },
        "outputId": "d5262cab-391e-4b39-a870-bec8ee01630b"
      },
      "outputs": [
        {
          "output_type": "stream",
          "name": "stdout",
          "text": [
            "Batch 13233 of 13233"
          ]
        }
      ],
      "source": [
        "# Passing the data to the MTCNN for cropping and alignment\n",
        "data_dir_crop = '/content/drive/MyDrive/dl_for_cv/data/_cropped/'\n",
        "crop_paths = []\n",
        "box_probs = []\n",
        "\n",
        "for i, (x, b_paths) in enumerate(loader):\n",
        "    crops = [p.replace(data_dir, data_dir_crop) for p in b_paths]\n",
        "    mtcnn(x, save_path=crops)\n",
        "    crop_paths.extend(crops)\n",
        "    print('\\rBatch {} of {}'.format(i + 1, len(loader)), end='')"
      ]
    },
    {
      "cell_type": "code",
      "execution_count": null,
      "outputs": [],
      "source": [
        "# Remove mtcnn to reduce GPU memory usage\n",
        "del mtcnn\n",
        "torch.cuda.empty_cache()"
      ],
      "metadata": {
        "pycharm": {
          "name": "#%%\n"
        },
        "id": "cvoXtX94C1F5"
      }
    },
    {
      "cell_type": "code",
      "execution_count": null,
      "outputs": [],
      "source": [
        "# create dataset and data loaders from cropped images output from MTCNN\n",
        "\n",
        "trans = transforms.Compose([\n",
        "    np.float32,\n",
        "    transforms.ToTensor(),\n",
        "    fixed_image_standardization\n",
        "])\n",
        "\n",
        "dataset = datasets.ImageFolder(data_dir_crop, transform=trans)\n",
        "\n",
        "embed_loader = DataLoader(\n",
        "    dataset,\n",
        "    num_workers=workers,\n",
        "    batch_size=batch_size,\n",
        "    sampler=SequentialSampler(dataset)\n",
        ")"
      ],
      "metadata": {
        "pycharm": {
          "name": "#%%\n"
        },
        "id": "k0ueCSEiC1F5"
      }
    },
    {
      "cell_type": "code",
      "execution_count": null,
      "outputs": [],
      "source": [
        "# Load pretrained resnet model, pass the data through the network & obtain embeddings\n",
        "resnet = InceptionResnetV1(classify=False, pretrained='vggface2').to(device)\n",
        "\n",
        "classes = []\n",
        "embeddings = []\n",
        "resnet.eval()\n",
        "with torch.no_grad():\n",
        "    for xb, yb in embed_loader:\n",
        "        xb = xb.to(device)\n",
        "        b_embeddings = resnet(xb)\n",
        "        b_embeddings = b_embeddings.to('cpu').numpy()\n",
        "        classes.extend(yb.numpy())\n",
        "        embeddings.extend(b_embeddings)"
      ],
      "metadata": {
        "pycharm": {
          "name": "#%%\n"
        },
        "id": "aZmLSa8VC1F6"
      }
    },
    {
      "cell_type": "code",
      "execution_count": null,
      "outputs": [
        {
          "output_type": "execute_result",
          "data": {
            "text/plain": [
              "13232"
            ]
          },
          "metadata": {},
          "execution_count": 30
        }
      ],
      "source": [
        "# Save embeddings, class names, paths to cropped & aligned images\n",
        "# Embeddings are 512-dimensional vectors that describe each face\n",
        "import pandas as pd\n",
        "embeddings_dict = dict(zip(crop_paths, embeddings))\n",
        "\n",
        "df = pd.DataFrame(embeddings, index=classes)\n",
        "df.index.name = 'Classes'\n",
        "df.to_csv('/content/drive/MyDrive/dl_for_cv/data/embeddings.csv')\n",
        "\n",
        "#print(len(embeddings_dict), embeddings_dict.keys())\n",
        "e_dict = pd.DataFrame.from_dict(embeddings_dict, orient='index')\n",
        "e_dict.to_csv('/content/drive/MyDrive/dl_for_cv/data/embeddings_dict.csv')"
      ],
      "metadata": {
        "pycharm": {
          "name": "#%%\n"
        },
        "id": "zEVqZGlyC1F6",
        "colab": {
          "base_uri": "https://localhost:8080/"
        },
        "outputId": "2b6bfaa3-f87e-4da4-9c1a-80fe88592151"
      }
    },
    {
      "cell_type": "code",
      "source": [
        "# Now we can download it from Google Drive at another time\n",
        "import pandas as pd\n",
        "e_dict = pd.read_csv('/content/drive/MyDrive/dl_for_cv/data/embeddings_dict.csv')\n",
        "\n",
        "dfn = pd.read_csv('/content/drive/MyDrive/dl_for_cv/data/embeddings.csv')\n",
        "embeddings_cast = dfn.values.tolist()\n",
        "\n",
        "#dfn.iloc[-10:-1, :10]\n",
        "#dfn[dfn['Classes']==500]"
      ],
      "metadata": {
        "id": "txw2zprwdz72"
      },
      "execution_count": null,
      "outputs": []
    },
    {
      "cell_type": "code",
      "source": [
        "# Evaluation and tuning\n",
        "import matplotlib.pyplot as plt\n",
        "import random\n",
        "list2 = dfn.values.tolist()\n",
        "\n",
        "thrs = np.linspace(0.6, 0.8, 5)\n",
        "fars, frrs = [], []\n",
        "\n",
        "\n",
        "\n",
        "def cosine(a, b):\n",
        "  dot = np.sum(np.multiply(a, b), axis=0)\n",
        "  norm = np.linalg.norm(a, axis=0) * np.linalg.norm(b, axis=0)\n",
        "  similarity = dot / norm\n",
        "  dist = np.arccos(similarity) / np.pi\n",
        "  return dist\n",
        "\n",
        "def linear(a, b):\n",
        "  diff = np.subtract(a, b)\n",
        "  dist = np.sum(np.square(diff),0)\n",
        "  return dist\n",
        "\n",
        "\n",
        "def threshold(loops):\n",
        "  for thr in thrs:\n",
        "    far, frr = 0, 0\n",
        "    for i in range(loops):\n",
        "      a = random.randrange(0, 13230)\n",
        "      b = random.randrange(0, 13230)\n",
        "      dist = linear(list2[a][1:], list2[b][1:])\n",
        "      if (dist < thr) & (list2[a][0] != list2[b][0]): far += 1\n",
        "      if (dist > thr) & (list2[a][0] == list2[b][0]): frr += 1\n",
        "\n",
        "    fars.append(far)\n",
        "    frrs.append(frr)\n",
        "\n",
        "  plt.figure(figsize=(15, 5))\n",
        "  plt.plot(thrs, fars, 'b', label='FAR', linewidth=2.0)\n",
        "  plt.plot(thrs, frrs, 'g', label='FRR', linewidth=2.0)\n",
        "  plt.grid(True)\n",
        "  plt.xlabel('threshold (distance)', fontsize=18)\n",
        "  plt.ylabel('rate', fontsize=18)\n",
        "  plt.legend(fontsize=14)\n",
        "  plt.tick_params(labelsize=14)\n",
        "\n",
        "\n",
        "def evaluation(loops):\n",
        "  tp, fp, fn, tn = 0, 0, 0, 0\n",
        "  thr = 0.6\n",
        "  for i in range(loops):\n",
        "    a = random.randrange(0, 13230)\n",
        "    b = random.randrange(0, 13230)\n",
        "    dist = linear(list2[a][1:], list2[b][1:])\n",
        "    if (dist < thr):\n",
        "      if ((list2[a][0] == list2[b][0])): tp+=1\n",
        "      else: fp+=1\n",
        "    if (dist > thr):\n",
        "      if ((list2[a][0] == list2[b][0])): fn+=1\n",
        "      else: tn+=1\n",
        "  print(\"Accuracy:\", (tp + tn) / (tp + tn + fn + fp))\n",
        "\n",
        "threshold(1000000)\n",
        "evaluation(1000000)"
      ],
      "metadata": {
        "colab": {
          "base_uri": "https://localhost:8080/",
          "height": 366
        },
        "id": "mEcYo8TOgKvs",
        "outputId": "7bf6b106-b9c3-4b2d-d5f2-5df9f474f8a1"
      },
      "execution_count": null,
      "outputs": [
        {
          "output_type": "stream",
          "name": "stdout",
          "text": [
            "accuracy: 0.999636\n"
          ]
        },
        {
          "output_type": "display_data",
          "data": {
            "text/plain": [
              "<Figure size 1500x500 with 1 Axes>"
            ],
            "image/png": "[encoded data removed]"
          },
          "metadata": {}
        }
      ]
    },
    {
      "cell_type": "code",
      "source": [
        "# Google Colab's magic recipe for capturing webcam shot\n",
        "\n",
        "from IPython.display import display, Javascript\n",
        "from google.colab.output import eval_js\n",
        "from base64 import b64decode\n",
        "\n",
        "def take_photo(filename='/content/sample_data/test/10000/1.jpg', quality=0.8):\n",
        "  js = Javascript('''\n",
        "    async function takePhoto(quality) {\n",
        "      const div = document.createElement('div');\n",
        "      const capture = document.createElement('button');\n",
        "      capture.textContent = 'Capture';\n",
        "      div.appendChild(capture);\n",
        "\n",
        "      const video = document.createElement('video');\n",
        "      video.style.display = 'block';\n",
        "      const stream = await navigator.mediaDevices.getUserMedia({video: true});\n",
        "\n",
        "      document.body.appendChild(div);\n",
        "      div.appendChild(video);\n",
        "      video.srcObject = stream;\n",
        "      await video.play();\n",
        "\n",
        "      // Resize the output to fit the video element.\n",
        "      google.colab.output.setIframeHeight(document.documentElement.scrollHeight, true);\n",
        "\n",
        "      // Wait for Capture to be clicked.\n",
        "      await new Promise((resolve) => capture.onclick = resolve);\n",
        "\n",
        "      const canvas = document.createElement('canvas');\n",
        "      canvas.width = video.videoWidth;\n",
        "      canvas.height = video.videoHeight;\n",
        "      canvas.getContext('2d').drawImage(video, 0, 0);\n",
        "      stream.getVideoTracks()[0].stop();\n",
        "      div.remove();\n",
        "      return canvas.toDataURL('image/jpeg', quality);\n",
        "    }\n",
        "    ''')\n",
        "  display(js)\n",
        "  data = eval_js('takePhoto({})'.format(quality))\n",
        "  binary = b64decode(data.split(',')[1])\n",
        "  with open(filename, 'wb') as f:\n",
        "    f.write(binary)\n",
        "  return filename"
      ],
      "metadata": {
        "id": "GCU2i279OZ9O"
      },
      "execution_count": null,
      "outputs": []
    },
    {
      "cell_type": "code",
      "source": [
        "# Make a shot.\n",
        "%mkdir -p '/content/sample_data/test/10000'\n",
        "\n",
        "from IPython.display import Image\n",
        "try:\n",
        "  filename = take_photo()\n",
        "  print('Saved to {}'.format(filename))\n",
        "\n",
        "  # Show the image which was just taken.\n",
        "  display(Image(filename))\n",
        "except Exception as err:\n",
        "  # Errors will be thrown if the user does not have a webcam or if they do not\n",
        "  # grant the page permission to access it.\n",
        "  print(str(err))"
      ],
      "metadata": {
        "id": "i229ki5xOZ9O"
      },
      "execution_count": null,
      "outputs": []
    },
    {
      "cell_type": "code",
      "source": [
        "\n",
        "data_dir_crop = '/content/sample_data/_cropped/'\n",
        "crop_paths = []\n",
        "box_probs = []\n",
        "\n",
        "%cd /content/\n",
        "%mkdir /content/sample_data/test\n",
        "\n",
        "%cd /content/sample_data/test\n",
        "!ls -a\n",
        "!rm -r '.ipynb_checkpoints'\n",
        "!ls -a\n",
        "\n",
        "\n",
        "data_dir = '/content/sample_data/test'\n",
        "orig_img_ds = datasets.ImageFolder(data_dir, transform=None)\n",
        "\n",
        "orig_img_ds.samples = [(p, p) for p, _ in orig_img_ds.samples]\n",
        "loader = DataLoader(orig_img_ds, num_workers=workers, batch_size=batch_size, collate_fn=training.collate_pil)\n",
        "\n",
        "data_dir_crop = '/content/sample_data/_cropped/'\n",
        "crop_paths = []\n",
        "box_probs = []\n",
        "\n",
        "for i, (x, b_paths) in enumerate(loader):\n",
        "    crops = [p.replace(data_dir, data_dir_crop) for p in b_paths]\n",
        "    mtcnn(x, save_path=crops)\n",
        "    crop_paths.extend(crops)\n",
        "    print('\\rBatch {} of {}'.format(i + 1, len(loader)), end='')\n",
        "\n",
        "    y = x[0]\n",
        "    print(type(y))\n",
        "    npi = np.array(y)\n",
        "    print(npi.mean(), npi.std(), npi.shape)\n",
        "\n"
      ],
      "metadata": {
        "colab": {
          "base_uri": "https://localhost:8080/"
        },
        "id": "0o-7p-SVRXrz",
        "outputId": "f2c42f61-52c9-47d2-d49c-b7b36d03a8e1"
      },
      "execution_count": null,
      "outputs": [
        {
          "output_type": "stream",
          "name": "stdout",
          "text": [
            "/content\n",
            "mkdir: cannot create directory ‘/content/sample_data/test’: File exists\n",
            "/content/sample_data/test\n",
            ".  ..  10000\n",
            "rm: cannot remove '.ipynb_checkpoints': No such file or directory\n",
            ".  ..  10000\n",
            "Batch 1 of 1<class 'PIL.Image.Image'>\n",
            "147.2497905815972 58.99923453794054 (480, 640, 3)\n"
          ]
        }
      ]
    },
    {
      "cell_type": "code",
      "source": [
        "\n",
        "trans = transforms.Compose([\n",
        "    np.float32,\n",
        "    transforms.ToTensor(),\n",
        "    fixed_image_standardization\n",
        "])\n",
        "\n",
        "dataset = datasets.ImageFolder(data_dir_crop, transform=trans)\n",
        "\n",
        "embed_loader = DataLoader(\n",
        "    dataset,\n",
        "    num_workers=workers,\n",
        "    batch_size=batch_size,\n",
        "    sampler=SequentialSampler(dataset)\n",
        ")\n",
        "\n",
        "\n",
        "resnet = InceptionResnetV1(classify=False, pretrained='vggface2').to(device)\n",
        "\n",
        "classes = []\n",
        "embeddings = []\n",
        "resnet.eval()\n",
        "with torch.no_grad():\n",
        "    for xb, yb in embed_loader:\n",
        "        xb = xb.to(device)\n",
        "        b_embeddings = resnet(xb)\n",
        "        b_embeddings = b_embeddings.to('cpu').numpy()\n",
        "        classes.extend(yb.numpy())\n",
        "        embeddings.extend(b_embeddings)"
      ],
      "metadata": {
        "id": "4bhc5Sf3KzYV"
      },
      "execution_count": null,
      "outputs": []
    },
    {
      "cell_type": "code",
      "source": [
        "def linear(a, b):\n",
        "  diff = np.subtract(a, b)\n",
        "  dist = np.sum(np.square(diff),0)\n",
        "  return dist\n",
        "\n",
        "fp = 0\n",
        "it_s = 0\n",
        "thr = 0.95 # Make the threshold higher for more fun\n",
        "\n",
        "print(\"Original:\")\n",
        "display(Image('/content/sample_data/_cropped/10000/1.jpg'))\n",
        "print(\"Threshold =\", thr)\n",
        "print(\"=======================================================\")\n",
        "\n",
        "for i in np.array(embeddings_cast):\n",
        "\n",
        "  dist = linear(i[1:], embeddings[0])\n",
        "\n",
        "  if (dist < thr):\n",
        "    fp +=1\n",
        "    display(Image(e_dict.iloc[it_s, 0]))\n",
        "    print(dist, e_dict.iloc[it_s, 0])\n",
        "  it_s +=1\n",
        "print(\"Summ of fp:\", fp)\n"
      ],
      "metadata": {
        "id": "oyY-ZM5ZLHhk"
      },
      "execution_count": null,
      "outputs": []
    },
    {
      "cell_type": "code",
      "source": [
        "from PIL import Image as im\n",
        "mtcnn = MTCNN(keep_all=True, device=device)\n",
        "iam = im.open('/content/sample_data/test/10000/1.jpg')\n",
        "\n",
        "box, prob = mtcnn.detect(iam)\n",
        "\n",
        "\n",
        "\n",
        "resnet = InceptionResnetV1(classify=False, pretrained='vggface2').to(device)\n",
        "\n",
        "resnet.eval()\n",
        "with torch.no_grad():\n",
        "  xb = mtcnn(iam).to(device)\n",
        "  emb = resnet(xb)\n",
        "  emb = emb.to('cpu').numpy()\n",
        "\n",
        "\n",
        "\n",
        "x = box[0, 0]\n",
        "y = box[0, 1]\n",
        "w = box[0, 2] - x\n",
        "h = box[0, 3] - y\n",
        "x1 = box[0, 2]\n",
        "y1 = box[0, 3]\n",
        "\n",
        "crop = iam.crop((x, y, x1, y1))\n",
        "display(iam)\n",
        "%matplotlib inline\n",
        "import matplotlib.pyplot as plt\n",
        "from matplotlib.patches import Rectangle\n",
        "\n",
        "imgplot = plt.imshow(iam)\n",
        "#rect = Rectangle((x, y), w, h, linewidth=1, edgecolor='r', facecolor='none')\n",
        "#plt.gca().add_patch(rect)\n",
        "plt.plot([x, x1, x1, x, x], [y, y, y1, y1, y], color='red', linewidth=2)\n",
        "plt.text(x, y-10, str(\"%.5f\" % prob[0]), color='red')\n",
        "plt.show()"
      ],
      "metadata": {
        "id": "RimhBjQDSSVq"
      },
      "execution_count": null,
      "outputs": []
    },
    {
      "cell_type": "code",
      "source": [
        "def linear(a, b):\n",
        "  diff = np.subtract(a, b)\n",
        "  dist = np.sum(np.square(diff),0)\n",
        "  return dist\n",
        "\n",
        "fp = 0\n",
        "it_s = 0\n",
        "thr = 0.95 # Make the threshold higher for more fun\n",
        "\n",
        "print(\"Original:\")\n",
        "display(Image('/content/sample_data/_cropped/10000/1.jpg'))\n",
        "print(\"Threshold =\", thr)\n",
        "print(\"=======================================================\")\n",
        "\n",
        "for i in np.array(embeddings_cast):\n",
        "\n",
        "  dist = linear(i[1:], emb[0])\n",
        "\n",
        "  if (dist < thr):\n",
        "    fp +=1\n",
        "    display(Image(e_dict.iloc[it_s, 0]))\n",
        "    print(dist, e_dict.iloc[it_s, 0])\n",
        "  it_s +=1\n",
        "print(\"Summ of fp:\", fp)"
      ],
      "metadata": {
        "id": "4-4A7hfOxhB4"
      },
      "execution_count": null,
      "outputs": []
    }
  ],
  "metadata": {
    "kernelspec": {
      "display_name": "Python 3",
      "name": "python3"
    },
    "language_info": {
      "codemirror_mode": {
        "name": "ipython",
        "version": 2
      },
      "file_extension": ".py",
      "mimetype": "text/x-python",
      "name": "python",
      "nbconvert_exporter": "python",
      "pygments_lexer": "ipython2",
      "version": "2.7.6"
    },
    "colab": {
      "provenance": [],
      "include_colab_link": true
    }
  },
  "nbformat": 4,
  "nbformat_minor": 0
}